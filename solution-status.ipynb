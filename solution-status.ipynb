{
  "nbformat": 4,
  "nbformat_minor": 0,
  "metadata": {
    "colab": {
      "name": "Untitled0.ipynb",
      "provenance": [],
      "collapsed_sections": []
    },
    "kernelspec": {
      "name": "python3",
      "display_name": "Python 3"
    }
  },
  "cells": [
    {
      "cell_type": "code",
      "execution_count": 1,
      "metadata": {},
      "outputs": [],
      "source": [
        "import os\n",
        "import json\n",
        "import pandas as pd\n",
        "\n",
        "students = (\n",
        "  'amanda.gabrielle',\n",
        "  'lins.ana',\n",
        "  'bruna.luiza',\n",
        "  'claudio.cruz',\n",
        "  'diogo.cardoso',\n",
        "  'francisco.oliveira',\n",
        "  'xavier.silva',\n",
        "  'gustavo.galisa',\n",
        "  'dionisio.ismael',\n",
        "  'nascimento.vitor',\n",
        "  'allan.keven',\n",
        "  'kilson.alves',\n",
        "  'lucas.gusmao',\n",
        "  'serrano.lucas',\n",
        "  'lucas.endress',\n",
        "  'lacouth.patric',\n",
        "  'andre.paulo',\n",
        "  'jhonatha.sousa',\n",
        "  'victor.japyassu',\n",
        "  'wellington.silva.1',\n",
        "  'yohanna.cavalcanti'\n",
        ")\n",
        "problems = os.listdir('w3c')\n",
        "status = {}\n",
        "\n",
        "for student in students:\n",
        "  status[student] = {}\n",
        "  for problem in problems:\n",
        "    path = f'w3c/{problem}/{student}'\n",
        "    status[student][problem] = os.path.isdir(path) or os.path.isfile(f'{path}.js')\n",
        "\n",
        "# print(json.dumps(status, indent=4, sort_keys=True))\n",
        "df = pd.DataFrame(status)\n",
        "# print(df)"
      ]
    },
    {
      "cell_type": "code",
      "execution_count": 2,
      "metadata": {},
      "outputs": [
        {
          "data": {
            "text/plain": "diogo.cardoso         10\nfrancisco.oliveira     7\nlucas.gusmao           6\nyohanna.cavalcanti     4\nbruna.luiza            3\nclaudio.cruz           3\nallan.keven            3\nlacouth.patric         3\namanda.gabrielle       3\nserrano.lucas          2\nlins.ana               2\nkilson.alves           1\nnascimento.vitor       1\nxavier.silva           1\njhonatha.sousa         1\nlucas.endress          0\nwellington.silva.1     0\ndionisio.ismael        0\ngustavo.galisa         0\nandre.paulo            0\nvictor.japyassu        0\ndtype: int64"
          },
          "execution_count": 2,
          "metadata": {},
          "output_type": "execute_result"
        }
      ],
      "source": [
        "df[df==True].count(axis=0).sort_values(ascending=False)"
      ]
    },
    {
      "cell_type": "code",
      "execution_count": 4,
      "metadata": {},
      "outputs": [
        {
          "data": {
            "text/plain": "color-web-safe-hsl-60       0\ncolor-web-safe-109          0\nweather-api                 0\ncolor-web-safe-217          0\ntext-editor                 0\nblog                        0\ntodo                        0\nlorem-ipsum-generator       0\nstring2number               0\nbmi-css                     0\nsite                        0\nblog-pagination             0\ncron-generator              0\niptable-create-uniq         0\nbmi-event                   0\niptable-crud                0\ncolor-pallete               0\ncryptcoins-api              0\nsite.zip                    0\ngentelella-app-versions     0\nartist-vagalume             0\nip2number                   0\ncalculator-ip               0\ncalendar                    0\ngentelella-top-tiles        0\nflag-game                   0\nipinfo-api                  0\nbmi-validator               1\ncolor-web-safe-hsl-360      1\nhtml-entities               1\ntext-util                   2\niptable-create              2\nbmi-simple                  2\npokedex                     2\niptable-read                2\ncolor-shades                2\ncalculator                  3\nlist-generator              4\npokeshop                    5\nbarato-coletivo             6\ncolor-names                 7\naddress-cep-api            10\ndtype: int64"
          },
          "execution_count": 4,
          "metadata": {},
          "output_type": "execute_result"
        }
      ],
      "source": [
        "df[df==True].count(axis=1).sort_values(ascending=True)"
      ]
    },
    {
      "cell_type": "code",
      "execution_count": 5,
      "metadata": {},
      "outputs": [
        {
          "name": "stdout",
          "output_type": "stream",
          "text": "50\n"
        }
      ],
      "source": [
        "print(df[df==True].count().sum())"
      ]
    }
  ]
}