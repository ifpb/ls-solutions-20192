{
  "nbformat": 4,
  "nbformat_minor": 0,
  "metadata": {
    "colab": {
      "name": "Untitled0.ipynb",
      "provenance": [],
      "collapsed_sections": []
    },
    "kernelspec": {
      "name": "python3",
      "display_name": "Python 3"
    }
  },
  "cells": [
    {
      "cell_type": "code",
      "execution_count": 2,
      "metadata": {},
      "outputs": [
        {
          "name": "stdout",
          "output_type": "stream",
          "text": "amanda.gabrielle  lins.ana  bruna.luiza  \\\naddress-cep-api                     False     False        False   \ngentelella-app-versions             False     False        False   \nlist-generator                       True     False        False   \nbmi-validator                       False     False        False   \nipinfo-api                          False     False        False   \ngentelella-top-tiles                False     False        False   \ncalendar                            False     False        False   \ncalculator-ip                       False     False        False   \ncalculator                          False     False        False   \ncolor-web-safe-hsl-360              False     False        False   \nip2number                           False     False        False   \nartist-vagalume                     False     False        False   \nflag-game                           False     False        False   \ncolor-pallete                       False     False        False   \ntext-util                           False     False        False   \nlorem-ipsum-generator               False     False        False   \ncolor-web-safe-hsl-60               False     False        False   \nweather-api                         False     False        False   \ncolor-web-safe-217                  False     False        False   \niptable-read                        False     False        False   \ntext-editor                         False     False        False   \nblog                                False     False        False   \ntodo                                False     False        False   \nstring2number                       False     False        False   \niptable-crud                        False     False        False   \nbmi-simple                          False     False        False   \ncolor-names                         False     False         True   \nbmi-css                             False     False        False   \niptable-create                      False     False        False   \nhtml-entities                       False     False        False   \nblog-pagination                     False     False        False   \ncron-generator                      False     False        False   \niptable-create-uniq                 False     False        False   \nbmi-event                           False     False        False   \ncolor-web-safe-109                  False     False        False   \ncryptcoins-api                      False     False        False   \n\n                         claudio.cruz  diogo.cardoso  francisco.oliveira  \\\naddress-cep-api                 False          False               False   \ngentelella-app-versions         False          False               False   \nlist-generator                  False          False               False   \nbmi-validator                   False          False               False   \nipinfo-api                      False          False               False   \ngentelella-top-tiles            False          False               False   \ncalendar                        False          False               False   \ncalculator-ip                   False          False               False   \ncalculator                      False           True               False   \ncolor-web-safe-hsl-360          False          False               False   \nip2number                       False          False               False   \nartist-vagalume                 False          False               False   \nflag-game                       False          False               False   \ncolor-pallete                   False          False               False   \ntext-util                       False           True               False   \nlorem-ipsum-generator           False          False               False   \ncolor-web-safe-hsl-60           False          False               False   \nweather-api                     False          False               False   \ncolor-web-safe-217              False          False               False   \niptable-read                    False          False               False   \ntext-editor                     False          False               False   \nblog                            False          False               False   \ntodo                            False          False               False   \nstring2number                   False          False               False   \niptable-crud                    False          False               False   \nbmi-simple                      False          False               False   \ncolor-names                      True          False                True   \nbmi-css                         False          False               False   \niptable-create                  False          False               False   \nhtml-entities                   False          False               False   \nblog-pagination                 False          False               False   \ncron-generator                  False          False               False   \niptable-create-uniq             False          False               False   \nbmi-event                       False          False               False   \ncolor-web-safe-109              False          False               False   \ncryptcoins-api                  False          False               False   \n\n                         xavier.silva  gustavo.galisa  dionisio.ismael  \\\naddress-cep-api                 False           False            False   \ngentelella-app-versions         False           False            False   \nlist-generator                  False           False            False   \nbmi-validator                   False           False            False   \nipinfo-api                      False           False            False   \ngentelella-top-tiles            False           False            False   \ncalendar                        False           False            False   \ncalculator-ip                   False           False            False   \ncalculator                      False           False            False   \ncolor-web-safe-hsl-360          False           False            False   \nip2number                       False           False            False   \nartist-vagalume                 False           False            False   \nflag-game                       False           False            False   \ncolor-pallete                   False           False            False   \ntext-util                       False           False            False   \nlorem-ipsum-generator           False           False            False   \ncolor-web-safe-hsl-60           False           False            False   \nweather-api                     False           False            False   \ncolor-web-safe-217              False           False            False   \niptable-read                    False           False            False   \ntext-editor                     False           False            False   \nblog                            False           False            False   \ntodo                            False           False            False   \nstring2number                   False           False            False   \niptable-crud                    False           False            False   \nbmi-simple                      False           False            False   \ncolor-names                      True           False            False   \nbmi-css                         False           False            False   \niptable-create                  False           False            False   \nhtml-entities                   False           False            False   \nblog-pagination                 False           False            False   \ncron-generator                  False           False            False   \niptable-create-uniq             False           False            False   \nbmi-event                       False           False            False   \ncolor-web-safe-109              False           False            False   \ncryptcoins-api                  False           False            False   \n\n                         nascimento.vitor  ...  kilson.alves  lucas.gusmao  \\\naddress-cep-api                     False  ...         False         False   \ngentelella-app-versions             False  ...         False         False   \nlist-generator                      False  ...         False         False   \nbmi-validator                       False  ...         False         False   \nipinfo-api                          False  ...         False         False   \ngentelella-top-tiles                False  ...         False         False   \ncalendar                            False  ...         False         False   \ncalculator-ip                       False  ...         False         False   \ncalculator                          False  ...         False         False   \ncolor-web-safe-hsl-360              False  ...         False          True   \nip2number                           False  ...         False         False   \nartist-vagalume                     False  ...         False         False   \nflag-game                           False  ...         False         False   \ncolor-pallete                       False  ...         False         False   \ntext-util                           False  ...         False         False   \nlorem-ipsum-generator               False  ...         False         False   \ncolor-web-safe-hsl-60               False  ...         False         False   \nweather-api                         False  ...         False         False   \ncolor-web-safe-217                  False  ...         False         False   \niptable-read                        False  ...         False         False   \ntext-editor                         False  ...         False         False   \nblog                                False  ...         False         False   \ntodo                                False  ...         False         False   \nstring2number                       False  ...         False         False   \niptable-crud                        False  ...         False         False   \nbmi-simple                          False  ...         False         False   \ncolor-names                         False  ...         False         False   \nbmi-css                             False  ...         False         False   \niptable-create                      False  ...         False         False   \nhtml-entities                       False  ...         False         False   \nblog-pagination                     False  ...         False         False   \ncron-generator                      False  ...         False         False   \niptable-create-uniq                 False  ...         False         False   \nbmi-event                           False  ...         False         False   \ncolor-web-safe-109                  False  ...         False         False   \ncryptcoins-api                      False  ...         False         False   \n\n                         serrano.lucas  lucas.endress  lacouth.patric  \\\naddress-cep-api                  False          False           False   \ngentelella-app-versions          False          False           False   \nlist-generator                   False          False           False   \nbmi-validator                    False          False           False   \nipinfo-api                       False          False           False   \ngentelella-top-tiles             False          False           False   \ncalendar                         False          False           False   \ncalculator-ip                    False          False           False   \ncalculator                       False          False            True   \ncolor-web-safe-hsl-360           False          False           False   \nip2number                        False          False           False   \nartist-vagalume                  False          False           False   \nflag-game                        False          False           False   \ncolor-pallete                    False          False           False   \ntext-util                        False          False            True   \nlorem-ipsum-generator            False          False           False   \ncolor-web-safe-hsl-60            False          False           False   \nweather-api                      False          False           False   \ncolor-web-safe-217               False          False           False   \niptable-read                     False          False           False   \ntext-editor                      False          False           False   \nblog                             False          False           False   \ntodo                             False          False           False   \nstring2number                    False          False           False   \niptable-crud                     False          False           False   \nbmi-simple                       False          False           False   \ncolor-names                       True          False           False   \nbmi-css                          False          False           False   \niptable-create                   False          False           False   \nhtml-entities                    False          False           False   \nblog-pagination                  False          False           False   \ncron-generator                   False          False           False   \niptable-create-uniq              False          False           False   \nbmi-event                        False          False           False   \ncolor-web-safe-109               False          False           False   \ncryptcoins-api                   False          False           False   \n\n                         andre.paulo  jhonatha.sousa  victor.japyassu  \\\naddress-cep-api                False           False            False   \ngentelella-app-versions        False           False            False   \nlist-generator                 False           False            False   \nbmi-validator                  False           False            False   \nipinfo-api                     False           False            False   \ngentelella-top-tiles           False           False            False   \ncalendar                       False           False            False   \ncalculator-ip                  False           False            False   \ncalculator                     False           False            False   \ncolor-web-safe-hsl-360         False           False            False   \nip2number                      False           False            False   \nartist-vagalume                False           False            False   \nflag-game                      False           False            False   \ncolor-pallete                  False           False            False   \ntext-util                      False           False            False   \nlorem-ipsum-generator          False           False            False   \ncolor-web-safe-hsl-60          False           False            False   \nweather-api                    False           False            False   \ncolor-web-safe-217             False           False            False   \niptable-read                   False           False            False   \ntext-editor                    False           False            False   \nblog                           False           False            False   \ntodo                           False           False            False   \nstring2number                  False           False            False   \niptable-crud                   False           False            False   \nbmi-simple                     False            True            False   \ncolor-names                    False           False            False   \nbmi-css                        False           False            False   \niptable-create                 False           False            False   \nhtml-entities                  False           False            False   \nblog-pagination                False           False            False   \ncron-generator                 False           False            False   \niptable-create-uniq            False           False            False   \nbmi-event                      False           False            False   \ncolor-web-safe-109             False           False            False   \ncryptcoins-api                 False           False            False   \n\n                         wellington.silva.1  yohanna.cavalcanti  \naddress-cep-api                       False               False  \ngentelella-app-versions               False               False  \nlist-generator                        False               False  \nbmi-validator                         False               False  \nipinfo-api                            False               False  \ngentelella-top-tiles                  False               False  \ncalendar                              False               False  \ncalculator-ip                         False               False  \ncalculator                            False                True  \ncolor-web-safe-hsl-360                False               False  \nip2number                             False               False  \nartist-vagalume                       False               False  \nflag-game                             False               False  \ncolor-pallete                         False               False  \ntext-util                             False               False  \nlorem-ipsum-generator                 False               False  \ncolor-web-safe-hsl-60                 False               False  \nweather-api                           False               False  \ncolor-web-safe-217                    False               False  \niptable-read                          False               False  \ntext-editor                           False               False  \nblog                                  False               False  \ntodo                                  False               False  \nstring2number                         False               False  \niptable-crud                          False               False  \nbmi-simple                            False               False  \ncolor-names                           False               False  \nbmi-css                               False               False  \niptable-create                        False               False  \nhtml-entities                         False               False  \nblog-pagination                       False               False  \ncron-generator                        False               False  \niptable-create-uniq                   False               False  \nbmi-event                             False               False  \ncolor-web-safe-109                    False               False  \ncryptcoins-api                        False               False  \n\n[36 rows x 21 columns]\n"
        }
      ],
      "source": [
        "import os\n",
        "import json\n",
        "import pandas as pd\n",
        "\n",
        "students = (\n",
        "  'amanda.gabrielle',\n",
        "  'lins.ana',\n",
        "  'bruna.luiza',\n",
        "  'claudio.cruz',\n",
        "  'diogo.cardoso',\n",
        "  'francisco.oliveira',\n",
        "  'xavier.silva',\n",
        "  'gustavo.galisa',\n",
        "  'dionisio.ismael',\n",
        "  'nascimento.vitor',\n",
        "  'allan.keven',\n",
        "  'kilson.alves',\n",
        "  'lucas.gusmao',\n",
        "  'serrano.lucas',\n",
        "  'lucas.endress',\n",
        "  'lacouth.patric',\n",
        "  'andre.paulo',\n",
        "  'jhonatha.sousa',\n",
        "  'victor.japyassu',\n",
        "  'wellington.silva.1',\n",
        "  'yohanna.cavalcanti'\n",
        ")\n",
        "problems = os.listdir('w3c')\n",
        "status = {}\n",
        "\n",
        "for student in students:\n",
        "  status[student] = {}\n",
        "  for problem in problems:\n",
        "    path = f'w3c/{problem}/{student}'\n",
        "    status[student][problem] = os.path.isdir(path) or os.path.isfile(f'{path}.js')\n",
        "\n",
        "# print(json.dumps(status, indent=4, sort_keys=True))\n",
        "df = pd.DataFrame(status)\n",
        "print(df)"
      ]
    },
    {
      "cell_type": "code",
      "execution_count": 3,
      "metadata": {},
      "outputs": [
        {
          "data": {
            "text/plain": "diogo.cardoso         2\nlacouth.patric        2\nyohanna.cavalcanti    1\nlucas.gusmao          1\nbruna.luiza           1\nclaudio.cruz          1\nfrancisco.oliveira    1\nxavier.silva          1\nallan.keven           1\nserrano.lucas         1\njhonatha.sousa        1\namanda.gabrielle      1\nkilson.alves          0\nwellington.silva.1    0\nnascimento.vitor      0\ndionisio.ismael       0\ngustavo.galisa        0\nlucas.endress         0\nandre.paulo           0\nvictor.japyassu       0\nlins.ana              0\ndtype: int64"
          },
          "execution_count": 3,
          "metadata": {},
          "output_type": "execute_result"
        }
      ],
      "source": [
        "df[df==True].count(axis=0).sort_values(ascending=False)"
      ]
    },
    {
      "cell_type": "code",
      "execution_count": 4,
      "metadata": {},
      "outputs": [
        {
          "data": {
            "text/plain": "color-names                6\ncalculator                 3\ntext-util                  2\nbmi-simple                 1\nlist-generator             1\ncolor-web-safe-hsl-360     1\ncolor-pallete              0\nflag-game                  0\nartist-vagalume            0\nip2number                  0\ncryptcoins-api             0\ncolor-web-safe-hsl-60      0\ncalculator-ip              0\ncalendar                   0\ngentelella-top-tiles       0\nipinfo-api                 0\nbmi-validator              0\ngentelella-app-versions    0\nlorem-ipsum-generator      0\nweather-api                0\ncolor-web-safe-109         0\ncolor-web-safe-217         0\niptable-read               0\ntext-editor                0\nblog                       0\ntodo                       0\nstring2number              0\niptable-crud               0\nbmi-css                    0\niptable-create             0\nhtml-entities              0\nblog-pagination            0\ncron-generator             0\niptable-create-uniq        0\nbmi-event                  0\naddress-cep-api            0\ndtype: int64"
          },
          "execution_count": 4,
          "metadata": {},
          "output_type": "execute_result"
        }
      ],
      "source": [
        "df[df==True].count(axis=1).sort_values(ascending=False)"
      ]
    },
    {
      "cell_type": "code",
      "execution_count": 5,
      "metadata": {},
      "outputs": [
        {
          "name": "stdout",
          "output_type": "stream",
          "text": "14\n"
        }
      ],
      "source": [
        "print(df[df==True].count().sum())"
      ]
    }
  ]
}